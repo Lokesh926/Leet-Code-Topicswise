{
  "nbformat": 4,
  "nbformat_minor": 0,
  "metadata": {
    "colab": {
      "provenance": [],
      "authorship_tag": "ABX9TyNbYV9PxxPW8broF73tIlL3",
      "include_colab_link": true
    },
    "kernelspec": {
      "name": "python3",
      "display_name": "Python 3"
    },
    "language_info": {
      "name": "python"
    }
  },
  "cells": [
    {
      "cell_type": "markdown",
      "metadata": {
        "id": "view-in-github",
        "colab_type": "text"
      },
      "source": [
        "<a href=\"https://colab.research.google.com/github/Lokesh926/Leet-Code-Topicswise/blob/main/leetcode_(Arrays).ipynb\" target=\"_parent\"><img src=\"https://colab.research.google.com/assets/colab-badge.svg\" alt=\"Open In Colab\"/></a>"
      ]
    },
    {
      "cell_type": "markdown",
      "source": [
        "Two Sum Number\n",
        "\n",
        "input  -> list[int], target value\n",
        "\n",
        "output -> lis[indices] which sums upto target value"
      ],
      "metadata": {
        "id": "YMKrr1i39woG"
      }
    },
    {
      "cell_type": "markdown",
      "source": [
        "Bruteforce  runtime= O[n^2]"
      ],
      "metadata": {
        "id": "3vkfiVgc_gl0"
      }
    },
    {
      "cell_type": "code",
      "execution_count": 17,
      "metadata": {
        "id": "XULwABO-9q8s"
      },
      "outputs": [],
      "source": [
        "class Solution:\n",
        "  def twoSum(self, nums: list[int], target: int) -> list[int]:\n",
        "    n=len(nums)\n",
        "\n",
        "    for i in range(n):\n",
        "      for j in range(i+1,n):\n",
        "        if nums[i]+nums[j]== target:\n",
        "          return [i,j]"
      ]
    },
    {
      "cell_type": "code",
      "source": [
        "%%time\n",
        "nums = [2,7,11,15]\n",
        "target= 9\n",
        "Solution().twoSum(nums,target)"
      ],
      "metadata": {
        "colab": {
          "base_uri": "https://localhost:8080/"
        },
        "id": "pH8NbuB5-k_q",
        "outputId": "afbd6ea0-ce06-4ec9-8b74-c3fb8a02e24b"
      },
      "execution_count": 20,
      "outputs": [
        {
          "output_type": "stream",
          "name": "stdout",
          "text": [
            "CPU times: user 20 µs, sys: 3 µs, total: 23 µs\n",
            "Wall time: 25.7 µs\n"
          ]
        },
        {
          "output_type": "execute_result",
          "data": {
            "text/plain": [
              "[0, 1]"
            ]
          },
          "metadata": {},
          "execution_count": 20
        }
      ]
    },
    {
      "cell_type": "markdown",
      "source": [
        "Optimized Method\n",
        "1. Create a hash table of the list.\n",
        "2. Calculate a complement number which should be target - key value"
      ],
      "metadata": {
        "id": "RjaM1xxeCWvV"
      }
    },
    {
      "cell_type": "code",
      "source": [
        "class Solution:\n",
        "  def twoSum(self, nums: list[int], target: int) -> list[int]:\n",
        "    n=len(nums)\n",
        "    hashmap={}\n",
        "\n",
        "    for i in range(n):\n",
        "      hashmap[nums[i]]=i\n",
        "    print(hashmap)\n",
        "\n",
        "    for i in range(n):\n",
        "      complement = target- nums[i]\n",
        "      if complement in hashmap and hashmap[complement]!=1:\n",
        "        return [hashmap[complement],i]"
      ],
      "metadata": {
        "id": "0LlF2l5gCyRk"
      },
      "execution_count": 22,
      "outputs": []
    },
    {
      "cell_type": "markdown",
      "source": [],
      "metadata": {
        "id": "V76vPwgtAm9T"
      }
    },
    {
      "cell_type": "code",
      "source": [
        "%%time\n",
        "nums = [2,7,11,15]\n",
        "target= 9\n",
        "Solution().twoSum(nums,target)"
      ],
      "metadata": {
        "colab": {
          "base_uri": "https://localhost:8080/"
        },
        "id": "0isniuV7DZm1",
        "outputId": "211c7ceb-0e35-42ae-bf6e-369e4120b749"
      },
      "execution_count": 27,
      "outputs": [
        {
          "output_type": "stream",
          "name": "stdout",
          "text": [
            "{2: 0, 7: 1, 11: 2, 15: 3}\n",
            "CPU times: user 57 µs, sys: 8 µs, total: 65 µs\n",
            "Wall time: 69.4 µs\n"
          ]
        },
        {
          "output_type": "execute_result",
          "data": {
            "text/plain": [
              "[0, 1]"
            ]
          },
          "metadata": {},
          "execution_count": 27
        }
      ]
    },
    {
      "cell_type": "markdown",
      "source": [
        "One-pass hash"
      ],
      "metadata": {
        "id": "Gnl8_XOqGCEw"
      }
    },
    {
      "cell_type": "code",
      "source": [
        "class Solution:\n",
        "  def twosum(self, nums: list[int], target: int) -> list[int]:\n",
        "    hashmap= {}\n",
        "    n = len(nums)\n",
        "\n",
        "    for i in range(n):\n",
        "      complement = target - nums[i]\n",
        "\n",
        "      if complement in hashmap:\n",
        "        return [hashmap[complement],i]\n",
        "\n",
        "      hashmap[nums[i]] = i\n",
        "    print(hashmap)\n",
        "\n",
        "\n",
        "\n"
      ],
      "metadata": {
        "id": "hyaSKbPxDyCu"
      },
      "execution_count": 51,
      "outputs": []
    },
    {
      "cell_type": "code",
      "source": [
        "nums = [2,7,11,15]\n",
        "target= 9\n",
        "Solution().twosum(nums,target)"
      ],
      "metadata": {
        "colab": {
          "base_uri": "https://localhost:8080/"
        },
        "id": "6l1p3ltmGujI",
        "outputId": "a112b471-0c47-4523-9738-25b6dbf3a8ad"
      },
      "execution_count": 52,
      "outputs": [
        {
          "output_type": "execute_result",
          "data": {
            "text/plain": [
              "[0, 1]"
            ]
          },
          "metadata": {},
          "execution_count": 52
        }
      ]
    },
    {
      "cell_type": "code",
      "source": [],
      "metadata": {
        "id": "sRK_lvkaG2u-"
      },
      "execution_count": null,
      "outputs": []
    }
  ]
}